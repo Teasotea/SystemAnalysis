{
 "cells": [
  {
   "cell_type": "markdown",
   "metadata": {},
   "source": [
    "$$\n",
    "\\begin{array}{|c||c|c|c|c|c||c|c|c|}\n",
    "\\hline\n",
    "q_0 & X_{11} & X_{12} & X_{21} & X_{31} & X_{32} & Y_1 & Y_2 & Y_3 \\\\ \\hline\\hline\n",
    "1 & 37.2 & 59.5 & 99.5 & 31.5 & 2505 & 118.23 & 188.88 & 7952.38 \\\\ \\hline\n",
    "2 & 39.4 & 62.2 & 104.1 & 32.4 & 2675 & 118.23 & 188.88 & 7952.38 \\\\ \\hline\n",
    "3 & 36.4 & 60.7 & 106.5 & 33.4 & 2828 & 121.73 & 191.97 & 8256.17 \\\\ \\hline\n",
    "4 & 38.0 & 63.5 & 109.7 & 34.8 & 3037 & 108.93 & 181.73 & 8467.06 \\\\ \\hline\n",
    "5 & 40.3 & 70.4 & 110.8 & 36.7 & 3239 & 109.22 & 182.47 & 8727.01 \\\\ \\hline\n",
    "6 & 38.9 & 72.5 & 113.5 & 38.8 & 3489 & 109.81 & 191.82 & 8825.61 \\\\ \\hline\n",
    "7 & 40.5 & 75 & 112.7 & 40.5 & 3740 & 100.42 & 186.85 & 8992.26 \\\\ \\hline\n",
    "8 & 41.8 & 82.1 & 115.5 & 41.8 & 4000 & 123.84 & 231.53 & 10092.34 \\\\ \\hline\n",
    "9 & 54.9 & 102.8 & 108.8 & 44.4 & 4481 & 107.91 & 207.09 & 9847.87 \\\\ \\hline\n",
    "10 & 53.2 & 102.1 & 115.7 & 49.3 & 4855 & 110.33 & 191.07 & 9834.57 \\\\ \\hline\n",
    "11 & 59.4 & 102.8 & 118.8 & 53.8 & 5291 & 100.02 & 185.18 & 9234.56 \\\\ \\hline\n",
    "12 & 59.7 & 96.9 & 127.5 & 56.9 & 5744 & 100.14 & 196.41 & 9569.37 \\\\ \\hline\n",
    "13 & 60.1 & 92 & 124 & 60.6 & 6262 & 104.92 & 170.29 & 10094.90 \\\\ \\hline\n",
    "14 & 66.5 & 124.0 & 117.9 & 65.2 & 6968 & 99.17 & 151.81 & 10333.33 \\\\ \\hline\n",
    "15 & 68.0 & 154.0 & 105.5 & 72.6 & 7682 & 101.99 & 190.21 & 10687.11 \\\\ \\hline\n",
    "16 & 72.0 & 162.1 & 103.4 & 82.4 & 8421 & 93.66 & 212.12 & 10581.26 \\\\ \\hline\n",
    "17 & 73.7 & 162.8 & 104.3 & 90.9 & 9243 & 87.37 & 196.81 & 10219.66 \\\\ \\hline\n",
    "18 & 71.6 & 165.6 & 103.7 & 96.5 & 9724 & 81.07 & 179.16 & 10168.31 \\\\ \\hline\n",
    "19 & 72.8 & 162.2 & 105.7 & 99.6 & 10340 & 74.19 & 171.59 & 10076.68 \\\\ \\hline\n",
    "20 & 81.4 & 163.5 & 105.5 & 103.9 & 11257 & 73.09 & 162.82 & 10381.52 \\\\ \\hline\n",
    "21 & 76.0 & 158.8 & 106.5 & 107.6 & 11861 & 78.34 & 157.40 & 10834.45 \\\\ \\hline\n",
    "22 & 84.0 & 157.4 & 107.3 & 109.6 & 12469 & 70.63 & 147.55 & 11023.23 \\\\ \\hline\n",
    "23 & 78.0 & 164.9 & 103.3 & 113.6 & 13094 & 76.64 & 143.62 & 11376.82 \\\\ \\hline\n",
    "24 & 85.4 & 250.3 & 102.8 & 118.3 & 14477 & 68.66 & 145.16 & 11526.40 \\\\ \\hline\n",
    "25 & 92.7 & 265.7 & 97.7 & 124 & 15307 & 72.16 & 211.61 & 12237.53 \\\\ \\hline\n",
    "26 & 89.9 & 281.0 & 95.8 & 130.7 & 16205 & 74.75 & 214.24 & 12344.35 \\\\ \\hline\n",
    "27 & 88.0 & 288.3 & 94.9 & 136.2 & 16766 & 68.79 & 215.00 & 12398.62 \\\\ \\hline\n",
    "28 & 86.9 & 284.6 & 94.1 & 140.3 & 17636 & 64.63 & 211.69 & 12309.83 \\\\ \\hline\n",
    "29 & 89.0 & 293.4 & 92.0 & 144.5 & 18153 & 61.95 & 202.85 & 12570.20 \\\\ \\hline\n",
    "30 & 90.1 & 282.9 & 95.2 & 148.2 & 19003 & 61.60 & 203.07 & 12562.62 \\\\ \\hline\n",
    "31 & 91.7 & 284.3 & 95.5 & 152.4 & 20604 & 60.78 & 190.87 & 12822.53 \\\\ \\hline\n",
    "32 & 97.3 & 280.2 & 95.7 & 156.9 & 21375 & 60.15 & 186.57 & 13519.63 \\\\ \\hline\n",
    "33 & 100.2 & 279.5 & 93.6 & 160.5 & 22312 & 61.99 & 178.60 & 13623.32 \\\\ \\hline\n",
    "34 & 104.2 & 277.1 & 95.0 & 163 & 23016 & 62.42 & 174.16 & 13901.55 \\\\ \\hline\n",
    "35 & 105.6 & 287.8 & 96.2 & 166.6 & 23693 & 64.03 & 170.01 & 14120.24 \\\\ \\hline\n",
    "36 & 107.1 & 306.4 & 96.5 & 172.2 & 24908 & 63.37 & 172.72 & 14221.48 \\\\ \\hline\n",
    "\\end{array}\n",
    "$$"
   ]
  },
  {
   "cell_type": "code",
   "execution_count": 1,
   "metadata": {},
   "outputs": [],
   "source": [
    "from numpy import *\n",
    "import numpy"
   ]
  },
  {
   "cell_type": "code",
   "execution_count": 2,
   "metadata": {},
   "outputs": [],
   "source": [
    "input = [\n",
    "37.2, 59.5, 99.5, 31.5, 2505, 118.23, 188.88, 7952.38,\n",
    "39.4, 62.2, 104.1, 32.4, 2675, 118.23, 188.88, 7952.38,\n",
    "36.4, 60.7, 106.5, 33.4, 2828, 121.73, 191.97, 8256.17,\n",
    "38.0, 63.5, 109.7, 34.8, 3037, 108.93, 181.73, 8467.06,\n",
    "40.3, 70.4, 110.8, 36.7, 3239, 109.22, 182.47, 8727.01,\n",
    "38.9, 72.5, 113.5, 38.8, 3489, 109.81, 191.82, 8825.61,\n",
    "40.5, 75, 112.7, 40.5, 3740, 100.42, 186.85, 8992.26,\n",
    "41.8, 82.1, 115.5, 41.8, 4000, 123.84, 231.53, 10092.34,\n",
    "54.9, 102.8, 108.8, 44.4, 4481, 107.91, 207.09, 9847.87,\n",
    "53.2, 102.1, 115.7, 49.3, 4855, 110.33, 191.07, 9834.57,\n",
    "59.4, 102.8, 118.8, 53.8, 5291, 100.02, 185.18, 9234.56,\n",
    "59.7, 96.9, 127.5, 56.9, 5744, 100.14, 196.41, 9569.37,\n",
    "60.1, 92, 124, 60.6, 6262, 104.92, 170.29, 10094.90,\n",
    "66.5, 124.0, 117.9, 65.2, 6968, 99.17, 151.81, 10333.33,\n",
    "68.0, 154.0, 105.5, 72.6, 7682, 101.99, 190.21, 10687.11,\n",
    "72.0, 162.1, 103.4, 82.4, 8421, 93.66, 212.12, 10581.26,\n",
    "73.7, 162.8, 104.3, 90.9, 9243, 87.37, 196.81, 10219.66,\n",
    "71.6, 165.6, 103.7, 96.5, 9724, 81.07, 179.16, 10168.31,\n",
    "72.8, 162.2, 105.7, 99.6, 10340, 74.19, 171.59, 10076.68,\n",
    "81.4, 163.5, 105.5, 103.9, 11257, 73.09, 162.82, 10381.52,\n",
    "76.0, 158.8, 106.5, 107.6, 11861, 78.34, 157.40, 10834.45,\n",
    "84.0, 157.4, 107.3, 109.6, 12469, 70.63, 147.55, 11023.23,\n",
    "78.0, 164.9, 103.3, 113.6, 13094, 76.64, 143.62, 11376.82,\n",
    "85.4, 250.3, 102.8, 118.3, 14477, 68.66, 145.16, 11526.40,\n",
    "92.7, 265.7, 97.7, 124, 15307, 72.16, 211.61, 12237.53,\n",
    "89.9, 281.0, 95.8, 130.7, 16205, 74.75, 214.24, 12344.35,\n",
    "88.0, 288.3, 94.9, 136.2, 16766, 68.79, 215.00, 12398.62,\n",
    "86.9, 284.6, 94.1, 140.3, 17636, 64.63, 211.69, 12309.83,\n",
    "89.0, 293.4, 92.0, 144.5, 18153, 61.95, 202.85, 12570.20,\n",
    "90.1, 282.9, 95.2, 148.2, 19003, 61.60, 203.07, 12562.62,\n",
    "91.7, 284.3, 95.5, 152.4, 20604, 60.78, 190.87, 12822.53,\n",
    "97.3, 280.2, 95.7, 156.9, 21375, 60.15, 186.57, 13519.63,\n",
    "100.2, 279.5, 93.6, 160.5, 22312, 61.99, 178.60, 13623.32,\n",
    "104.2, 277.1, 95.0, 163, 23016, 62.42, 174.16, 13901.55,\n",
    "105.6, 287.8, 96.2, 166.6, 23693, 64.03, 170.01, 14120.24,\n",
    "107.1, 306.4, 96.5, 172.2, 24908, 63.37, 172.72, 14221.48\n",
    "]"
   ]
  },
  {
   "cell_type": "code",
   "execution_count": 3,
   "metadata": {},
   "outputs": [],
   "source": [
    "\"\"\"\n",
    "Splitting initial data into rows\n",
    "by the amount of samples, in our case 36\n",
    "\"\"\"\n",
    "rows = split(array(input), 36)\n",
    "\n",
    "\"\"\"Input dimensions for X1, X2, X3, Y\"\"\"\n",
    "n1, n2, n3, ny = (2, 1, 2, 3)\n",
    "\n",
    "\"\"\"Splitting rows matrix by columns of corespioding sizes\"\"\"\n",
    "x1, x2, x3, y, _ = split(rows, cumsum([n1, n2, n3, ny]), axis=1)"
   ]
  },
  {
   "cell_type": "code",
   "execution_count": 4,
   "metadata": {},
   "outputs": [],
   "source": [
    "def normalize(x):\n",
    "    return (x - numpy.min(x)) / (numpy.max(x) - numpy.min(x))"
   ]
  },
  {
   "cell_type": "code",
   "execution_count": 5,
   "metadata": {},
   "outputs": [],
   "source": [
    "\"\"\"Normalizing input data for polynomial input\"\"\"\n",
    "x1n = normalize(x1)\n",
    "x2n = normalize(x2)\n",
    "x3n = normalize(x3)\n",
    "yn = normalize(y)\n",
    "\n",
    "\"\"\"Defining b accoding to the assignment\"\"\"\n",
    "b = mean(normalize(y), axis=1)"
   ]
  },
  {
   "cell_type": "code",
   "execution_count": 6,
   "metadata": {},
   "outputs": [],
   "source": [
    "\"\"\"Input polynomial degrees for X1, X2, X3 respectively\"\"\"\n",
    "d1 = 1\n",
    "d2 = 2\n",
    "d3 = 3"
   ]
  },
  {
   "cell_type": "code",
   "execution_count": 7,
   "metadata": {},
   "outputs": [],
   "source": [
    "import sympy\n",
    "\n",
    "\"\"\"Choosing polynom to use\"\"\"\n",
    "polynom = sympy.chebyshevt\n",
    "# polynom = sympy.legendre\n",
    "\n",
    "def apply_polynom(nx, deg):\n",
    "    return array([[float(polynom(d, x)) for x in ax for d in range(deg+1)] for ax in nx])\n",
    "\n",
    "\"\"\"Applying all degrees of the polynomial from 0 to d# degree\"\"\"\n",
    "φ1 = apply_polynom(x1n, d1)\n",
    "φ2 = apply_polynom(x2n, d2)\n",
    "φ3 = apply_polynom(x3n, d3)\n",
    "\n",
    "F = hstack([φ1, φ2, φ3])"
   ]
  },
  {
   "cell_type": "code",
   "execution_count": 8,
   "metadata": {},
   "outputs": [],
   "source": [
    "import scipy.sparse.linalg\n",
    "\n",
    "\"\"\"Base logic for solving equations, given by the variant\"\"\"\n",
    "def gradient(a, b):\n",
    "    return scipy.sparse.linalg.cg(atleast_1d(a.T @ a), atleast_1d(a.T @ b), tol=1e-12)[0]"
   ]
  },
  {
   "cell_type": "code",
   "execution_count": 9,
   "metadata": {},
   "outputs": [
    {
     "data": {
      "text/plain": [
       "'Uncomment for gathered way of calcuilation'"
      ]
     },
     "execution_count": 9,
     "metadata": {},
     "output_type": "execute_result"
    }
   ],
   "source": [
    "\"\"\"\n",
    "Determining the way of calculating λ values\n",
    "either separately from each X# or gathered\n",
    "Should be selectable in the interface\n",
    "\"\"\"\n",
    "\n",
    "# separate\n",
    "l1 = gradient(φ1, b)\n",
    "l2 = gradient(φ2, b)\n",
    "l3 = gradient(φ3, b)\n",
    "\n",
    "\"\"\"Uncomment for gathered way of calcuilation\"\"\"\n",
    "# gathered\n",
    "# l1, l2, l3, _ = split(gradient(F, b), cumsum(multiply([n1, n2, n3], add([d1, d2, d3], 1))))"
   ]
  },
  {
   "cell_type": "code",
   "execution_count": 10,
   "metadata": {},
   "outputs": [],
   "source": [
    "def sum_degree(φ, l, d):\n",
    "    return sum(split(φ * l, d+1, axis=1), axis=0)"
   ]
  },
  {
   "cell_type": "code",
   "execution_count": 11,
   "metadata": {},
   "outputs": [],
   "source": [
    "\"\"\"Calculating ψ by summing up all degrees of the polynomial with previously found λ values\"\"\"\n",
    "ψ1 = sum_degree(φ1, l1, d1)\n",
    "ψ2 = sum_degree(φ2, l2, d2)\n",
    "ψ3 = sum_degree(φ3, l3, d3)"
   ]
  },
  {
   "cell_type": "code",
   "execution_count": 12,
   "metadata": {},
   "outputs": [],
   "source": [
    "\"\"\"\n",
    "Finding a# values for each ψ#\n",
    "Each a# has # colums coresponding to X#\n",
    "and amount of rows always equals to ny\n",
    "\"\"\"\n",
    "a1 = array([gradient(ψ1, yn[:, i]) for i in range(ny)])\n",
    "a2 = array([gradient(ψ2, yn[:, i]) for i in range(ny)])\n",
    "a3 = array([gradient(ψ3, yn[:, i]) for i in range(ny)])"
   ]
  },
  {
   "cell_type": "code",
   "execution_count": 13,
   "metadata": {},
   "outputs": [],
   "source": [
    "\"\"\"\n",
    "Calculating Ф# that correspend to X#\n",
    "Each Ф# has ny columns coresponding to Y\n",
    "\"\"\"\n",
    "P1 = ψ1 @ a1.T\n",
    "P2 = ψ2 @ a2.T\n",
    "P3 = ψ3 @ a3.T"
   ]
  },
  {
   "cell_type": "code",
   "execution_count": 81,
   "metadata": {},
   "outputs": [],
   "source": [
    "\"\"\"\n",
    "Collecting Ф# by Y, so essentially Ф is a list of matrices\n",
    "created as [P1[:, i], P2[:, i], P3[:, i]] for each i in range(ny)\n",
    "\"\"\"\n",
    "P = split(stack([P1, P2, P3], axis=-1), 3, axis=1)\n",
    "P = list(map(squeeze, P))"
   ]
  },
  {
   "cell_type": "code",
   "execution_count": 14,
   "metadata": {},
   "outputs": [],
   "source": [
    "\"\"\"\n",
    "Finding c# values for each P#\n",
    "Amount of elements in c# equals to Y#\n",
    "\"\"\"\n",
    "c1, c2, c3 = array([gradient(P[i], yn[:, i]) for i in range(ny)])"
   ]
  },
  {
   "cell_type": "code",
   "execution_count": 72,
   "metadata": {},
   "outputs": [],
   "source": [
    "\"\"\"Combining final output for further usage\"\"\"\n",
    "c = array([c1, c2, c3]).T"
   ]
  },
  {
   "cell_type": "markdown",
   "metadata": {},
   "source": [
    "---\n",
    "\n",
    "# Output"
   ]
  },
  {
   "cell_type": "code",
   "execution_count": 73,
   "metadata": {},
   "outputs": [
    {
     "data": {
      "text/latex": [
       "$\\displaystyle \\Phi_{1}(x_1, x_2, x_3) = 1.05813 \\Phi_{11}(x_1) + 0.90518 \\Phi_{12}(x_1) + 0.07837 \\Phi_{13}(x_1)$"
      ],
      "text/plain": [
       "Eq(\\Phi_{1}(x_1, x_2, x_3), 1.05813*\\Phi_{11}(x_1) + 0.90518*\\Phi_{12}(x_1) + 0.07837*\\Phi_{13}(x_1))"
      ]
     },
     "metadata": {},
     "output_type": "display_data"
    },
    {
     "data": {
      "text/latex": [
       "$\\displaystyle \\Phi_{2}(x_1, x_2, x_3) = 0.02119 \\Phi_{21}(x_1) + 0.32367 \\Phi_{22}(x_1) - 0.00673 \\Phi_{23}(x_1)$"
      ],
      "text/plain": [
       "Eq(\\Phi_{2}(x_1, x_2, x_3), 0.02119*\\Phi_{21}(x_1) + 0.32367*\\Phi_{22}(x_1) - 0.00673*\\Phi_{23}(x_1))"
      ]
     },
     "metadata": {},
     "output_type": "display_data"
    },
    {
     "data": {
      "text/latex": [
       "$\\displaystyle \\Phi_{3}(x_1, x_2, x_3) = - 0.07682 \\Phi_{31}(x_1) - 0.22567 \\Phi_{32}(x_1) + 0.92842 \\Phi_{33}(x_1)$"
      ],
      "text/plain": [
       "Eq(\\Phi_{3}(x_1, x_2, x_3), -0.07682*\\Phi_{31}(x_1) - 0.22567*\\Phi_{32}(x_1) + 0.92842*\\Phi_{33}(x_1))"
      ]
     },
     "metadata": {},
     "output_type": "display_data"
    }
   ],
   "source": [
    "from IPython.display import display\n",
    "from sympy import Symbol, Eq\n",
    "import sympy\n",
    "\n",
    "for i, _c in enumerate(c):\n",
    "    phi = sympy.symbols(f'\\Phi_{{{i+1}1:{i+1}4}}(x_1)')\n",
    "    rhs = dot(phi, around(_c, 5))\n",
    "    display(Eq(Symbol(f\"\\Phi_{{{i+1}}}(x_1, x_2, x_3)\"), rhs))"
   ]
  },
  {
   "cell_type": "code",
   "execution_count": 17,
   "metadata": {},
   "outputs": [
    {
     "data": {
      "text/plain": [
       "(T_{0}(x), T_{1}(x), T_{2}(x), T_{3}(x))"
      ]
     },
     "execution_count": 17,
     "metadata": {},
     "output_type": "execute_result"
    }
   ],
   "source": [
    "# todo: finish Ф output via T polynomials\n",
    "max_degree = max(d1, d2, d3)\n",
    "sympy.symbols(f'T_{{0:{max_degree+1}}}(x)')"
   ]
  },
  {
   "cell_type": "code",
   "execution_count": 18,
   "metadata": {},
   "outputs": [],
   "source": [
    "def denormalize(x, y):\n",
    "    return (x * (numpy.max(y) - numpy.min(y))) + numpy.min(y)"
   ]
  },
  {
   "cell_type": "code",
   "execution_count": 85,
   "metadata": {},
   "outputs": [
    {
     "data": {
      "image/png": "[encoded data removed]",
      "text/plain": [
       "<Figure size 432x288 with 1 Axes>"
      ]
     },
     "metadata": {
      "needs_background": "light"
     },
     "output_type": "display_data"
    }
   ],
   "source": [
    "import matplotlib.pyplot as plot\n",
    "\n",
    "data = range(len(y))\n",
    "\n",
    "plot.plot(data, y[:, 0])\n",
    "plot.plot(data, denormalize(clip(dot(P[0], c1), 0, 1), y))\n",
    "plot.show()"
   ]
  },
  {
   "cell_type": "code",
   "execution_count": 86,
   "metadata": {},
   "outputs": [
    {
     "data": {
      "image/png": "[encoded data removed]",
      "text/plain": [
       "<Figure size 432x288 with 1 Axes>"
      ]
     },
     "metadata": {
      "needs_background": "light"
     },
     "output_type": "display_data"
    }
   ],
   "source": [
    "import matplotlib.pyplot as plot\n",
    "\n",
    "data = range(len(y))\n",
    "\n",
    "plot.plot(data, y[:, 1])\n",
    "plot.plot(data, denormalize(clip(dot(P[1], c2), 0, 1), y))\n",
    "plot.show()"
   ]
  },
  {
   "cell_type": "code",
   "execution_count": 87,
   "metadata": {},
   "outputs": [
    {
     "data": {
      "image/png": "[encoded data removed]",
      "text/plain": [
       "<Figure size 432x288 with 1 Axes>"
      ]
     },
     "metadata": {
      "needs_background": "light"
     },
     "output_type": "display_data"
    }
   ],
   "source": [
    "import matplotlib.pyplot as plot\n",
    "\n",
    "data = range(len(y))\n",
    "\n",
    "plot.plot(data, y[:, 2])\n",
    "plot.plot(data, denormalize(clip(dot(P[2], c3), 0, 1), y))\n",
    "plot.show()"
   ]
  }
 ],
 "metadata": {
  "kernelspec": {
   "display_name": "Python 3",
   "language": "python",
   "name": "python3"
  },
  "language_info": {
   "codemirror_mode": {
    "name": "ipython",
    "version": 3
   },
   "file_extension": ".py",
   "mimetype": "text/x-python",
   "name": "python",
   "nbconvert_exporter": "python",
   "pygments_lexer": "ipython3",
   "version": "3.10.0"
  }
 },
 "nbformat": 4,
 "nbformat_minor": 2
}
